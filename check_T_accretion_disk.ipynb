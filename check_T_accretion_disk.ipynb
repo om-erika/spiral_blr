{
 "cells": [
  {
   "cell_type": "code",
   "execution_count": 1,
   "metadata": {
    "_cell_guid": "b1076dfc-b9ad-4769-8c92-a6c4dae69d19",
    "_kg_hide-output": false,
    "_uuid": "8f2839f25d086af736a60e9eeb907d3b93b6e0e5",
    "execution": {
     "iopub.execute_input": "2025-05-29T17:05:36.545159Z",
     "iopub.status.busy": "2025-05-29T17:05:36.544931Z",
     "iopub.status.idle": "2025-05-29T17:05:37.222599Z",
     "shell.execute_reply": "2025-05-29T17:05:37.222146Z"
    }
   },
   "outputs": [],
   "source": [
    "import numba\n",
    "from numba import cuda, float64\n",
    "import numpy as np\n",
    "import math\n",
    "from scipy.integrate import quad\n",
    "from tqdm import tqdm\n",
    "from celerite import terms\n",
    "import celerite\n",
    "import time as tempo"
   ]
  },
  {
   "cell_type": "code",
   "execution_count": 2,
   "metadata": {
    "_kg_hide-output": false,
    "execution": {
     "iopub.execute_input": "2025-05-29T17:05:37.224609Z",
     "iopub.status.busy": "2025-05-29T17:05:37.224331Z",
     "iopub.status.idle": "2025-05-29T17:05:37.227943Z",
     "shell.execute_reply": "2025-05-29T17:05:37.227562Z"
    }
   },
   "outputs": [],
   "source": [
    "# Function to calculate the radius of the innermost stable circular orbit (ISCO)\n",
    "def R_ISCO(M, chi):\n",
    "    Z1 = 1. + (1. - chi**2)**(1/3) * ((1. + chi)**(1/3) + (1. - chi)**(1/3))\n",
    "    Z2 = np.sqrt(3. * chi**2 + Z1**2)\n",
    "    isco_ = 3 + Z2 - np.sign(chi) * np.sqrt((3. - Z1) * (3. + Z1 + 2. * Z2))\n",
    "    return isco_ * G * M / c**2"
   ]
  },
  {
   "cell_type": "code",
   "execution_count": 3,
   "metadata": {
    "_kg_hide-output": false,
    "execution": {
     "iopub.execute_input": "2025-05-29T17:05:37.229360Z",
     "iopub.status.busy": "2025-05-29T17:05:37.229219Z",
     "iopub.status.idle": "2025-05-29T17:05:37.242749Z",
     "shell.execute_reply": "2025-05-29T17:05:37.242381Z"
    }
   },
   "outputs": [],
   "source": [
    "# Function to de-evolve the phase of an orbiting object\n",
    "# Find where the emitting element of the accretion disc was at an arbitrary time\n",
    "# Modifies a pre-allocated CUDA device array (filled with zeros) with the de-evolved angles\n",
    "@cuda.jit(device = True)\n",
    "def de_evolve(xi, theta, time, initial_phase, M):\n",
    "    td = time_delay(xi, theta, inc)\n",
    "    kf = keplerian_freq(M, xi) \n",
    "    return (theta - (time -td)*kf + initial_phase) - (2.*math.pi)*math.floor((theta - (time -td)*kf + initial_phase)/(2.*math.pi))\n",
    "\n",
    "#Function to compute time delay\n",
    "# Modifies a pre-allocated CUDA device array (filled with zeros) with the de-evolved angles\n",
    "# @cuda.jit(device=True) would be more efficient if we don't need to save them in a device array\n",
    "@cuda.jit(device=True)\n",
    "def time_delay(xi, theta, inc):\n",
    "    return xi*(1+math.sin(inc)*math.cos(theta))\n",
    "\n",
    "#x, y are separated cuda device\n",
    "@cuda.jit(device = True)\n",
    "def position_components(angle, R):\n",
    "    x = R * math.sin(angle)  # x-coordinate\n",
    "    y = R * math.cos(angle)  # y-coordinate\n",
    "    return (x,y)\n",
    "\n",
    "#vx, vy are separated cuda device\n",
    "@cuda.jit(device = True)\n",
    "def velocity_components(angle, R, M, corot=0):\n",
    "    v_kep = math.sqrt(G * M / R)  # Keplerian velocity\n",
    "    vx = v_kep * math.cos(angle)  # x-component of velocity\n",
    "    vy = -v_kep * math.sin(angle) # y-component of velocity\n",
    "\n",
    "    if corot == 0:  # Corotating case\n",
    "        return (vx, vy)\n",
    "    else:  # Non-corotating case\n",
    "        return (-vx, -vy)\n",
    "\n",
    "@cuda.jit(device = True)\n",
    "def keplerian_freq(M, R):\n",
    "    omega_k = math.sqrt(G * M/ R**3)\n",
    "    return omega_k\n",
    "\n",
    "@cuda.jit(device=True)\n",
    "def doppler_factor(v1, v2, r1, r2):\n",
    "    #norms/dots v1, v2\n",
    "    norm_v1_sq = v1[0]*v1[0] + v1[1]*v1[1]#dot_product(v1, v1)#v1[0]*v1[0] + v1[1]*v1[1]\n",
    "    norm_v2_sq = v2[0]*v2[0] + v2[1]*v2[1]#dot_product(v2, v2) #v2[0]*v2[0] + v2[1]*v2[1]\n",
    "    v2_dot_v1 = v2[0]*v1[0] + v2[1]*v1[1]#dot_product(v2, v1) #v2[0]*v1[0] + v2[1]*v1[1]\n",
    "    norm_v1_minus_v2_sq = (v1[0]-v2[0])*(v1[0]-v2[0]) + (v1[1]-v2[1])*(v1[1]-v2[1])#dot_product(v1-v2, v1-v2) #(v1[0]-v2[0])*(v1[0]-v2[0]) + (v1[1]-v2[1])*(v1[1]-v2[1])\n",
    "    \n",
    "    # Parallel components of v2\n",
    "    v2_para_x = (v2_dot_v1 / norm_v1_sq) * v1[0]\n",
    "    v2_para_y = (v2_dot_v1 / norm_v1_sq) * v1[1]\n",
    "\n",
    "    # Perpendicular components of v2\n",
    "    v2_perp_x = v2[0] - v2_para_x\n",
    "    v2_perp_y = v2[1] - v2_para_y\n",
    "\n",
    "    # Lorentz factor v2\n",
    "    gamma_2 = 1.0 / math.sqrt(1.0 - norm_v2_sq / (c**2))\n",
    "\n",
    "    # beta vector v2\n",
    "    beta_x = (1.0/c)*(v1[0] - v2[0] + (1.0/gamma_2)*v2_perp_x) / (1.0 - (v2_dot_v1)/(c**2))\n",
    "    beta_y = (1.0/c)*(v1[1] - v2[1] + (1.0/gamma_2)*v2_perp_y) / (1.0 - (v2_dot_v1)/(c**2))\n",
    "    beta_norm_sq = beta_x*beta_x + beta_y*beta_y #without dot_product because not array\n",
    " \n",
    "    # np.dot(r2-r1)/(norm(r2-r1)**2)\n",
    "    dr_x = r2[0] - r1[0]\n",
    "    dr_y = r2[1] - r1[1]\n",
    "    norm_dr = math.sqrt(dr_x*dr_x + dr_y*dr_y) #without dot_product because not array\n",
    "    r_vers_x = dr_x / norm_dr\n",
    "    r_vers_y = dr_y / norm_dr\n",
    "\n",
    "    #Lorentz factor v1-v2\n",
    "    gamma = math.sqrt(1.0 / (1.0 - beta_norm_sq))\n",
    "\n",
    "    # Beta dot r_vers\n",
    "    beta_dot_r_vers = beta_x*r_vers_x + beta_y*r_vers_y\n",
    "\n",
    "    # Doppler factor\n",
    "    D = 1.0 / (gamma * (1.0 - beta_dot_r_vers))\n",
    "\n",
    "    return D\n",
    "\n",
    "@cuda.jit(device=True)\n",
    "def dot_product(a, b):\n",
    "    result = 0.0\n",
    "    for i in range(a.size):\n",
    "        result += a[i] * b[i]\n",
    "    return result\n",
    "\n",
    "@cuda.jit(device=True)\n",
    "def radiative_efficiency(chi):\n",
    "    Z1 = 1. + (1. - chi**2)**(1/3) * ((1. + chi)**(1/3) + (1. - chi)**(1/3))\n",
    "    Z2 = math.sqrt(3. * chi**2 + Z1**2)\n",
    "    Eisco = (4. - chi * Z1 - math.sqrt(3 * Z2 - 2. * Z1)) / (3. * math.sqrt(3))\n",
    "    eta = 1.- Eisco\n",
    "    return eta\n",
    "\n",
    "@cuda.jit(device=True)\n",
    "def L_edd(M):\n",
    "    return 4.*math.pi*G*M*c/0.1\n",
    "    \n",
    "@cuda.jit(device=True)\n",
    "def temperature(pos, M, f_edd, chi, R_in):\n",
    "    R = math.sqrt(pos[0]**2+pos[1]**2)\n",
    "    eta = radiative_efficiency(chi)\n",
    "    M_dot = f_edd*L_edd(M)/(eta*c**2)\n",
    "    return ((3.*G*M*M_dot)/(8.*math.pi*sigma_B*R**3))**(1/4)*(1.-math.sqrt(R_in/R))**(1/4)  "
   ]
  },
  {
   "cell_type": "code",
   "execution_count": 4,
   "metadata": {
    "_kg_hide-output": false,
    "execution": {
     "iopub.execute_input": "2025-05-29T17:05:37.244112Z",
     "iopub.status.busy": "2025-05-29T17:05:37.243869Z",
     "iopub.status.idle": "2025-05-29T17:05:37.248088Z",
     "shell.execute_reply": "2025-05-29T17:05:37.247705Z"
    }
   },
   "outputs": [],
   "source": [
    "@cuda.jit(device=True)\n",
    "def compute_planck_spectrum(nu, T):\n",
    "    num = 2.*h*nu**3/c**2\n",
    "    den = math.exp(h*nu/(k*T)) - 1.0\n",
    "    return num /den\n",
    "\n",
    "@cuda.jit(device=True)\n",
    "def compute_ionizing_flux(T, D, z, pos, dr, dtheta):\n",
    "    nu_min = 13.6*1.60218e-19/h\n",
    "    nu_max = 20.*13.6*1.60218e-19/h\n",
    "    N = int(1e5)  # Number of integration steps\n",
    "    dnu = (nu_max-nu_min)/N\n",
    "    flux = 0.0\n",
    "    \n",
    "    T_eff = D*T/(1. + z)\n",
    "\n",
    "    for i in range(N):\n",
    "        nu = nu_min + i * dnu\n",
    "        flux += compute_planck_spectrum(nu, T_eff)*dnu\n",
    "\n",
    "    return flux*math.sqrt(pos[0]**2+pos[1]**2)*dr*dtheta"
   ]
  },
  {
   "cell_type": "code",
   "execution_count": 5,
   "metadata": {
    "_kg_hide-output": false,
    "execution": {
     "iopub.execute_input": "2025-05-29T17:05:37.249437Z",
     "iopub.status.busy": "2025-05-29T17:05:37.249146Z",
     "iopub.status.idle": "2025-05-29T17:05:37.252149Z",
     "shell.execute_reply": "2025-05-29T17:05:37.251781Z"
    }
   },
   "outputs": [],
   "source": [
    "@cuda.jit\n",
    "def sum_kernel(d_r, d_angle, d_time, d_flux, d_flux_def):\n",
    "  idx_t = cuda.grid(1)\n",
    "  if idx_t < d_time.size:\n",
    "    for i_x in range(d_r.size):\n",
    "          for i_fi in range(d_angle.size):\n",
    "            d_flux_def[idx_t] = d_flux_def[idx_t] + d_flux[idx_t][i_fi][i_x]\n"
   ]
  },
  {
   "cell_type": "code",
   "execution_count": 6,
   "metadata": {
    "_kg_hide-output": false,
    "execution": {
     "iopub.execute_input": "2025-05-29T17:05:37.253529Z",
     "iopub.status.busy": "2025-05-29T17:05:37.253280Z",
     "iopub.status.idle": "2025-05-29T17:05:37.256822Z",
     "shell.execute_reply": "2025-05-29T17:05:37.256466Z"
    }
   },
   "outputs": [],
   "source": [
    "@cuda.jit(device=True)\n",
    "def find_temperature(gp_times, starting_light_curve, t):#, idx_angle, idx_R):\n",
    "    lower_diff = 1e10\n",
    "    upper_diff = 1e10\n",
    "    lower_idx = 0  # initialize to valid index 0\n",
    "    upper_idx = gp_times.size - 1  # initialize to last valid index\n",
    "    y_predicted = 0.\n",
    "\n",
    "    for i in range(gp_times.size):\n",
    "        val = gp_times[i]\n",
    "        diff = abs(val - t)\n",
    "\n",
    "        if val <= t and diff < lower_diff:\n",
    "            lower_diff = diff\n",
    "            lower_idx = i\n",
    "        if val >= t and diff < upper_diff:\n",
    "            upper_diff = diff\n",
    "            upper_idx = i\n",
    "            \n",
    "        y_predicted = (starting_light_curve[lower_idx] + starting_light_curve[upper_idx]) / 2.\n",
    "\n",
    "    return y_predicted"
   ]
  },
  {
   "cell_type": "code",
   "execution_count": 7,
   "metadata": {
    "_kg_hide-output": false,
    "execution": {
     "iopub.execute_input": "2025-05-29T17:05:37.258090Z",
     "iopub.status.busy": "2025-05-29T17:05:37.257868Z",
     "iopub.status.idle": "2025-05-29T17:05:37.266206Z",
     "shell.execute_reply": "2025-05-29T17:05:37.265833Z"
    }
   },
   "outputs": [],
   "source": [
    "def radiative_efficiency_cpu(chi):\n",
    "    Z1 = 1 + (1 - chi**2)**(1/3) * ((1 + chi)**(1/3) + (1 - chi)**(1/3))\n",
    "    Z2 = math.sqrt(3 * chi**2 + Z1**2)\n",
    "    Eisco = (4 - chi * Z1 - math.sqrt(3 * Z2 - 2 * Z1)) / (3 * math.sqrt(3))\n",
    "    eta = 1 - Eisco\n",
    "    return eta\n",
    "\n",
    "def L_edd_cpu(M):\n",
    "    return 4*math.pi*G*M*c/0.1\n",
    "    \n",
    "def Temperature(R, M, f_edd, chi, R_in):\n",
    "    #R = math.sqrt(pos[0]**2+pos[1]**2)\n",
    "    eta = radiative_efficiency_cpu(chi)\n",
    "    M_dot = f_edd*L_edd_cpu(M)/(eta*c**2)\n",
    "    return ((3*G*M*M_dot)/(8*math.pi*sigma_B*R**3))**(1/4)*(1-math.sqrt(R_in/R))**(1/4)  \n",
    "\n",
    "# Function to generate a set of temperatures using Gaussian processes\n",
    "def generate_set_of_temperatures(times, Rs, thetas, M, f_edd, chi, R_in, tau, sigma):\n",
    "    \"\"\"\n",
    "    Generate a set of Gaussian Process (GP) objects and initial temperature samples \n",
    "    for a grid of radii (Rs) and angles (thetas) over specified time points.\n",
    "\n",
    "    Args:\n",
    "        times (array-like): Array of time points at which the GP is computed.\n",
    "        Rs (array-like): Array of radii values representing the grid's columns.\n",
    "        thetas (array-like): Array of angular values (in radians) representing the grid's rows.\n",
    "        M (float): Mass parameter used in the temperature calculation.\n",
    "        f_edd (float): Eddington factor used in the temperature calculation.\n",
    "        chi (float): Opacity parameter used in the temperature calculation.\n",
    "        R_in (float): Inner radius parameter used in the temperature calculation.\n",
    "        tau (float): Timescale parameter for the GP kernel.\n",
    "        sigma (float): Amplitude parameter for the GP kernel.\n",
    "\n",
    "    Returns:\n",
    "        tuple: A tuple containing:\n",
    "            - gps (list of lists): A 2D list of GP objects, where rows correspond to \n",
    "              angular values (thetas) and columns correspond to radii (Rs).\n",
    "            - starting_ys (list of lists): A 2D list of initial temperature samples \n",
    "              generated from the GPs, with the same structure as `gps`.\n",
    "\n",
    "    Notes:\n",
    "        - The grid is structured such that the outer list corresponds to rows (thetas),\n",
    "          and the inner list corresponds to columns (Rs).\n",
    "        - Each GP object is initialized with a kernel defined by the given `tau` and `sigma`\n",
    "          parameters and a mean temperature based on the radius `Rs[i]`.\n",
    "    \"\"\"\n",
    "    # Initialize Gaussian Process (GP) objects and starting temperature samples\n",
    "    gps = [[[] for _ in range(len(Rs))] for _ in range(len(thetas))]\n",
    "    starting_ys = [[[] for _ in range(len(Rs))] for _ in range(len(thetas))]\n",
    "    for i in range(len(thetas)):\n",
    "        for j in range(len(Rs)):\n",
    "            # Define a GP kernel with specified parameters\n",
    "            kernel_ = terms.RealTerm(log_a=np.log(sigma), log_c=-np.log(tau))\n",
    "            # Create a GP object with the kernel and mean temperature at the given radius\n",
    "            # Here the radius is the mean radius of the element\n",
    "            gp = celerite.GP(kernel_, mean=np.log10(Temperature(Rs[j]+(Rs[1]-Rs[0])/2, M, f_edd, chi, R_in)))\n",
    "            gp.compute(times)  # Precompute the GP for the given time points\n",
    "            starting_ys[i][j] = gp.sample()  # Sample initial temperatures\n",
    "            gps[i][j] = gp  # Store the GP object\n",
    "    return np.transpose(10.0**np.array(starting_ys), (2, 0, 1)) #to have [idx_t, idx_fi, idx_r] #,gps\n",
    "\n",
    "def approximate_temperature(t, starting_light_curve, times):\n",
    "    \"\"\"\n",
    "    Approximate the temperature at a given time `t` using a simple linear interpolation\n",
    "    between the nearest time points in the `times` array.\n",
    "\n",
    "    Args:\n",
    "        t (float): The time at which to approximate the temperature.\n",
    "        starting_light_curve (array-like): The light curve values corresponding to `times` for a given accretion disc element.\n",
    "        times (array-like): The array of time points used to create the initial lightcurves.\n",
    "\n",
    "    Returns:\n",
    "        float: The approximated temperature at time `t`.\n",
    "    \"\"\"\n",
    "    # Find the indices of the time points just before and after the given time `t`\n",
    "    index1 = np.where(times < t)[-1]  # Indices where times are less than `t`\n",
    "    index2 = np.where(times > t)[0]  # Indices where times are greater than `t`\n",
    "\n",
    "    # Perform a simple average of the light curve values at the two nearest time points\n",
    "    y_predicted = (starting_light_curve[index1[-1]] + starting_light_curve[index2[0]]) / 2\n",
    "\n",
    "    return y_predicted"
   ]
  },
  {
   "cell_type": "code",
   "execution_count": 8,
   "metadata": {
    "_kg_hide-input": false,
    "_kg_hide-output": false,
    "execution": {
     "iopub.execute_input": "2025-05-29T17:05:37.267646Z",
     "iopub.status.busy": "2025-05-29T17:05:37.267286Z",
     "iopub.status.idle": "2025-05-29T17:05:37.270608Z",
     "shell.execute_reply": "2025-05-29T17:05:37.270247Z"
    }
   },
   "outputs": [],
   "source": [
    "# Function to calculate the Planck spectrum for a given temperature\n",
    "def planck_spectrum(nu, T):\n",
    "    return (2 * h * nu**3) / (c**2) * (1 / (np.exp(h * nu / (k * T)) - 1))\n",
    "\n",
    "# Function to calculate the ionizing flux for a given temperature\n",
    "# The temperature here should be D*T/(1+z) where D is the Doppler factor, 1+z is the gravitational redshift and T is the rest frame wavelength \n",
    "def ionizing_flux_element(T,D,R,dr,dtheta):\n",
    "    def integrand(nu):\n",
    "        return planck_spectrum(nu, T)\n",
    "    flux, _ = quad(integrand, 13.6 / h * 1.60218e-19, 20 * 13.6 / h * 1.60218e-19)\n",
    "    return flux*R*dr*dtheta"
   ]
  },
  {
   "cell_type": "code",
   "execution_count": 9,
   "metadata": {
    "_kg_hide-input": true,
    "_kg_hide-output": false,
    "execution": {
     "iopub.execute_input": "2025-05-29T17:05:37.271893Z",
     "iopub.status.busy": "2025-05-29T17:05:37.271588Z",
     "iopub.status.idle": "2025-05-29T17:05:37.277289Z",
     "shell.execute_reply": "2025-05-29T17:05:37.276920Z"
    }
   },
   "outputs": [],
   "source": [
    "@cuda.jit()\n",
    "def accretion_disk_kernel(angle, R, M, times, gp_times, d_temp_curves, initial_phase, v_obs, r_obs, d_debug):\n",
    "    idx_times, idx_angle, idx_R = cuda.grid(3)\n",
    "    \n",
    "    #starting_light_curve = cuda.shared.array(d_temp_curves, dtype=float64)\n",
    "    if idx_times < times.size and idx_angle < angle.size and idx_R < R.size:\n",
    "        j = idx_angle\n",
    "        k = idx_R\n",
    "        r = R[idx_R]\n",
    "        theta = angle[idx_angle]\n",
    "        gp_temp = d_temp_curves[:, idx_angle, idx_R]\n",
    "        t = times[idx_times]\n",
    "\n",
    "        theta_prime = de_evolve(float64(r), float64(theta), float64(t), float64(initial_phase), float64(M))\n",
    "\n",
    "        positions = position_components(theta_prime, r) #returns (x,y), if check you need d_debug = positions[i]\n",
    "        velocities = velocity_components(theta_prime, r, M, 0.)\n",
    "        doppler = doppler_factor(v_obs, velocities, r_obs, positions)\n",
    "        T = find_temperature(gp_times, gp_temp, t)\n",
    "        T_eff = T*doppler/(1+z)\n",
    "        if T_eff < 1e8:\n",
    "            flux = math.exp(-1.06581189e+02 +5.39800294e+01*math.log10(T_eff) -8.69566619e+00*math.log10(T_eff)**2+ 6.02830718e-01*math.log10(T_eff)**3-1.43840088e-02*math.log10(T_eff)**4)\n",
    "        #T = temperature(positions, M, f_edd, chi, R_in)\n",
    "        else:\n",
    "            flux = math.exp(8.49396521e+00+1.76942309e+00*math.log10(T_eff)-1.12695341e-01*math.log10(T_eff)+7.33461259e-03*math.log10(T_eff)**3-1.78956502e-04*math.log10(T_eff)**4)\n",
    "        d_debug[idx_times, idx_angle, idx_R] = flux*r*dr*dtheta#compute_ionizing_flux(T,doppler,z, positions,dr,dtheta)"
   ]
  },
  {
   "cell_type": "code",
   "execution_count": 10,
   "metadata": {
    "_kg_hide-output": false,
    "execution": {
     "iopub.execute_input": "2025-05-29T17:05:37.278521Z",
     "iopub.status.busy": "2025-05-29T17:05:37.278305Z",
     "iopub.status.idle": "2025-05-29T17:05:37.416589Z",
     "shell.execute_reply": "2025-05-29T17:05:37.416150Z"
    }
   },
   "outputs": [],
   "source": [
    "# Defining constants\n",
    "h = 6.62607015e-34  # Planck's constant (Joule-seconds)\n",
    "c = 3e8  # Speed of light (m/s)\n",
    "k = 1.380649e-23  # Boltzmann constant (Joule/Kelvin)\n",
    "G = 6.67e-11  # Gravitational constant (m^3/kg/s^2)\n",
    "sigma_B = 1.28e-23  # Stefan-Boltzmann constant (W/m^2/K^4)\n",
    "M_sun = np.float64(2e30)  # Solar mass (kg)\n",
    "\n",
    "M = np.float64(1e8*M_sun)\n",
    "d_M = cuda.to_device(M)\n",
    "inc = np.radians(30.)\n",
    "chi = 0.8\n",
    "R_in = np.float64(1.5*R_ISCO(M, chi))\n",
    "f_edd = 0.5\n",
    "z = 0.1\n",
    "tau = 100.\n",
    "sigma = 0.5\n",
    "\n",
    "r = np.linspace(1.1*R_in,3.0*R_in, 20).astype(np.float64) #if r_1 = R_in Nan for high chi, check\n",
    "#r = np.linspace(100,200).astype(np.float64)\n",
    "angle = np.linspace(0., 2.*np.pi, 20).astype(np.float64)\n",
    "times = np.linspace(20., 40., 20).astype(np.float64)\n",
    "gp_times = np.linspace(0., 50., 1000).astype(np.float64)\n",
    "\n",
    "dr = r[1]-r[0]\n",
    "dtheta = angle[1]-angle[0]\n",
    "d_r = cuda.to_device(r)\n",
    "d_angle = cuda.to_device(angle)\n",
    "d_times = cuda.to_device(times)\n",
    "d_gp_times = cuda.to_device(gp_times)\n",
    "r_obs = cuda.to_device([5.0*R_in,5.0*R_in])\n",
    "#r_obs = cuda.to_device([100,100])\n",
    "v_obs = cuda.to_device([c/2,c/2])\n",
    "\n",
    "deb = np.zeros([times.size, angle.size, r.size])\n",
    "d_deb = cuda.to_device(deb)\n",
    "deb_def = np.zeros([times.size])\n",
    "d_deb_def = cuda.to_device(deb_def)"
   ]
  },
  {
   "cell_type": "code",
   "execution_count": 11,
   "metadata": {
    "_kg_hide-output": false,
    "execution": {
     "iopub.execute_input": "2025-05-29T17:05:37.418571Z",
     "iopub.status.busy": "2025-05-29T17:05:37.418367Z",
     "iopub.status.idle": "2025-05-29T17:05:37.502226Z",
     "shell.execute_reply": "2025-05-29T17:05:37.501755Z"
    }
   },
   "outputs": [
    {
     "name": "stdout",
     "output_type": "stream",
     "text": [
      "Expected shape: (1000, 20, 20)\n",
      "Resulting shape (1000, 20, 20)\n",
      "Tempo per generare curve di temperatura: 0.08019566535949707\n"
     ]
    }
   ],
   "source": [
    "start_time = tempo.time()\n",
    "temp_curves = generate_set_of_temperatures(gp_times, r, angle, M, f_edd, chi, R_in, tau, sigma)\n",
    "temp_curves = np.ascontiguousarray(temp_curves)\n",
    "d_temp_curves = cuda.to_device(np.ascontiguousarray(temp_curves))\n",
    "end_time = tempo.time()\n",
    "print(f'Expected shape: ({len(gp_times):.0f}, {len(angle):.0f}, {len(r):.0f})')\n",
    "print('Resulting shape', d_temp_curves.shape)\n",
    "print('Tempo per generare curve di temperatura:', end_time-start_time)"
   ]
  },
  {
   "cell_type": "code",
   "execution_count": 12,
   "metadata": {
    "_kg_hide-output": false,
    "execution": {
     "iopub.execute_input": "2025-05-29T17:05:37.532417Z",
     "iopub.status.busy": "2025-05-29T17:05:37.532188Z",
     "iopub.status.idle": "2025-05-29T17:05:37.534742Z",
     "shell.execute_reply": "2025-05-29T17:05:37.534349Z"
    }
   },
   "outputs": [],
   "source": [
    "threads_per_block =  (4)\n",
    "blocks_per_grid = (\n",
    "      (d_times.size + (threads_per_block - 1)) // threads_per_block,\n",
    "  )"
   ]
  },
  {
   "cell_type": "code",
   "execution_count": 13,
   "metadata": {
    "_kg_hide-output": false,
    "execution": {
     "iopub.execute_input": "2025-05-29T17:05:37.536111Z",
     "iopub.status.busy": "2025-05-29T17:05:37.535881Z",
     "iopub.status.idle": "2025-05-29T17:05:37.538600Z",
     "shell.execute_reply": "2025-05-29T17:05:37.538238Z"
    }
   },
   "outputs": [],
   "source": [
    "threads_per_block_1 =  (4,4,4)\n",
    "blocks_per_grid_1 = (\n",
    "      (d_times.size + (threads_per_block_1[0] - 1)) // threads_per_block_1[0],\n",
    "      (d_angle.size + (threads_per_block_1[1] - 1)) // threads_per_block_1[1],\n",
    "      (d_r.size + (threads_per_block_1[2] - 1)) // threads_per_block_1[2]\n",
    "  )"
   ]
  },
  {
   "cell_type": "code",
   "execution_count": 14,
   "metadata": {
    "_kg_hide-output": false,
    "execution": {
     "iopub.execute_input": "2025-05-29T17:05:37.539899Z",
     "iopub.status.busy": "2025-05-29T17:05:37.539577Z",
     "iopub.status.idle": "2025-05-29T17:05:38.375735Z",
     "shell.execute_reply": "2025-05-29T17:05:38.375233Z"
    }
   },
   "outputs": [
    {
     "name": "stderr",
     "output_type": "stream",
     "text": [
      "/leonardo_scratch/large/userexternal/esottoco/box/lib/python3.11/site-packages/numba/cuda/dispatcher.py:536: NumbaPerformanceWarning: Grid size 125 will likely result in GPU under-utilization due to low occupancy.\n",
      "  warn(NumbaPerformanceWarning(msg))\n"
     ]
    },
    {
     "name": "stderr",
     "output_type": "stream",
     "text": [
      "/leonardo_scratch/large/userexternal/esottoco/box/lib/python3.11/site-packages/numba/cuda/dispatcher.py:536: NumbaPerformanceWarning: Grid size 5 will likely result in GPU under-utilization due to low occupancy.\n",
      "  warn(NumbaPerformanceWarning(msg))\n"
     ]
    }
   ],
   "source": [
    "start_time_gpu = tempo.time()\n",
    "accretion_disk_kernel[blocks_per_grid_1, threads_per_block_1](d_angle, d_r, M, d_times, d_gp_times, d_temp_curves,  0., v_obs, r_obs, d_deb)\n",
    "cuda.synchronize()\n",
    "sum_kernel[blocks_per_grid, threads_per_block](d_r, d_angle, d_times, d_deb, d_deb_def)\n",
    "cuda.synchronize()\n",
    "end_time_gpu_without_copying = tempo.time()"
   ]
  },
  {
   "cell_type": "code",
   "execution_count": 15,
   "metadata": {
    "_kg_hide-output": false,
    "execution": {
     "iopub.execute_input": "2025-05-29T17:05:38.377129Z",
     "iopub.status.busy": "2025-05-29T17:05:38.376942Z",
     "iopub.status.idle": "2025-05-29T17:05:38.380108Z",
     "shell.execute_reply": "2025-05-29T17:05:38.379719Z"
    }
   },
   "outputs": [
    {
     "name": "stdout",
     "output_type": "stream",
     "text": [
      "Expected shape: (20, 20, 20)\n",
      "Resulting shape (20, 20, 20)\n"
     ]
    }
   ],
   "source": [
    "deb = d_deb.copy_to_host()\n",
    "print(f'Expected shape: ({len(times):.0f}, {len(angle):.0f}, {len(r):.0f})')\n",
    "print('Resulting shape', deb.shape)\n",
    "end_time_gpu = tempo.time()"
   ]
  },
  {
   "cell_type": "code",
   "execution_count": 16,
   "metadata": {
    "_kg_hide-output": false,
    "execution": {
     "iopub.execute_input": "2025-05-29T17:05:38.381401Z",
     "iopub.status.busy": "2025-05-29T17:05:38.381119Z",
     "iopub.status.idle": "2025-05-29T17:05:38.383793Z",
     "shell.execute_reply": "2025-05-29T17:05:38.383427Z"
    }
   },
   "outputs": [
    {
     "name": "stdout",
     "output_type": "stream",
     "text": [
      "Expected shape: (20)\n",
      "Resulting shape (20,)\n"
     ]
    }
   ],
   "source": [
    "deb_def = d_deb_def.copy_to_host()\n",
    "print(f'Expected shape: ({len(times):.0f})')\n",
    "print('Resulting shape', deb_def.shape)"
   ]
  },
  {
   "cell_type": "code",
   "execution_count": 17,
   "metadata": {
    "_kg_hide-output": false,
    "execution": {
     "iopub.execute_input": "2025-05-29T17:05:38.385165Z",
     "iopub.status.busy": "2025-05-29T17:05:38.384891Z",
     "iopub.status.idle": "2025-05-29T17:05:38.964295Z",
     "shell.execute_reply": "2025-05-29T17:05:38.963919Z"
    }
   },
   "outputs": [
    {
     "name": "stdout",
     "output_type": "stream",
     "text": [
      "Total elements in f_def: (20,)\n",
      "Expected elements: 20\n"
     ]
    }
   ],
   "source": [
    "D = []\n",
    "angl = []\n",
    "vx = []\n",
    "vy = []\n",
    "x = []\n",
    "y = []\n",
    "T = []\n",
    "flux = []\n",
    "r1= r_obs.copy_to_host()#np.array([100., 100.])\n",
    "v1 = v_obs.copy_to_host()#np.array([c/2, c/2])\n",
    "\n",
    "start_time_cpu = tempo.time()\n",
    "for t in times:\n",
    "    for idx_ang, ang in enumerate(angle):\n",
    "        for idx_r, erre in enumerate(r):\n",
    "            td = erre*(1+math.sin(inc)*math.cos(ang))\n",
    "            kf = math.sqrt(G * M / erre**3)\n",
    "            ##phi - 2*math.pi * math.floor(phi / (2*math.pi))\n",
    "            #(theta - (time -td)*kf + initial_phase) - (2.*math.pi)*math.floor((theta - (time -td)*kf + initial_phase)/(2.*math.pi))\n",
    "\n",
    "            ang_pre = (ang - (t -td)*kf + 0.) - (2*math.pi) * math.floor((ang - (t -td)*kf + 0.)/(2*math.pi)) \n",
    "            angl.append(ang_pre)\n",
    "            v_kep = math.sqrt(G * M / erre)  # Keplerian velocity\n",
    "            vx.append(v_kep*np.cos(ang_pre))\n",
    "            vy.append(-v_kep*np.sin(ang_pre))\n",
    "            x.append(erre * math.sin(ang_pre))\n",
    "            y.append(erre*math.cos(ang_pre))\n",
    "\n",
    "            r2 = np.array([erre * math.sin(ang_pre), erre * math.cos(ang_pre)]) \n",
    "            v2 = np.array([v_kep*np.cos(ang_pre), -v_kep*np.sin(ang_pre)])\n",
    "            \n",
    "            v2_para = np.dot(v2, v1) * v1 / np.linalg.norm(v1)**2  # Parallel component of v2 \n",
    "            v2_perp = v2 - v2_para  # Perpendicular component of v2\n",
    "            gamma_2 = 1 / np.sqrt(1 - np.linalg.norm(v2)**2 / c**2)  # Lorentz factor for v2\n",
    "            beta = 1 / c * (v1 - v2 + 1 / gamma_2 * v2_perp) / (1 - np.dot(v1, v2) / c**2)\n",
    "            r_vers = (r2 - r1) / np.linalg.norm(r2 - r1)  # Unit vector in the direction of r2 - r1\n",
    "            gamma = np.sqrt(1 / (1 - np.linalg.norm(beta)**2))\n",
    "            dop = 1 / (gamma * (1 - np.dot(beta, r_vers)))\n",
    "            D.append(dop)  # Doppler factor\n",
    "\n",
    "            #Z1 = 1 + (1 - chi**2)**(1/3) * ((1 + chi)**(1/3) + (1 - chi)**(1/3))\n",
    "            #Z2 = np.sqrt(3 * chi**2 + Z1**2)\n",
    "            #Eisco = (4 - chi * Z1 - np.sqrt(3 * Z2 - 2 * Z1)) / (3 * np.sqrt(3))\n",
    "            #eta = 1 - Eisco\n",
    "            #M_dot = f_edd * 4*np.pi*G*M * c / 0.1 / (eta * c**2)\n",
    "            #temp = ((3 * G *M*M_dot) / (8 * np.pi * sigma_B * erre**3))**(1/4) * (1 - np.sqrt(R_in / erre))**(1/4)\n",
    "            temp = approximate_temperature(t, temp_curves[:, idx_ang, idx_r], gp_times)\n",
    "            T.append(temp)\n",
    "            f = ionizing_flux_element(dop*temp/(1+z), dop, erre,dr,dtheta)\n",
    "            flux.append(f)\n",
    "\n",
    "end_time_cpu = tempo.time()\n",
    "\n",
    "angl = np.array(angl)\n",
    "angl = angl.reshape(len(times), len(angle), len(r))\n",
    "y = np.array(y)\n",
    "x = np.array(x)\n",
    "x = x.reshape(len(times), len(angle), len(r))\n",
    "y = np.array(y)\n",
    "y = y.reshape(len(times), len(angle), len(r))\n",
    "vx = np.array(vx)\n",
    "vx = vx.reshape(len(times), len(angle), len(r))\n",
    "vy = np.array(vy)\n",
    "vy = vy.reshape(len(times), len(angle), len(r))\n",
    "D = np.array(D)\n",
    "D = D.reshape(len(times), len(angle), len(r))\n",
    "T = np.array(T)\n",
    "T = T.reshape(len(times), len(angle), len(r))\n",
    "flux = np.array(flux)\n",
    "flux = flux.reshape(len(times), len(angle), len(r))\n",
    "flux_def = np.array(np.sum(np.sum(flux, axis = 2), axis=1))\n",
    "print(\"Total elements in f_def:\", flux_def.shape)\n",
    "print(\"Expected elements:\", len(times))"
   ]
  },
  {
   "cell_type": "code",
   "execution_count": 18,
   "metadata": {
    "_kg_hide-output": false,
    "execution": {
     "iopub.execute_input": "2025-05-29T17:05:38.965595Z",
     "iopub.status.busy": "2025-05-29T17:05:38.965408Z",
     "iopub.status.idle": "2025-05-29T17:05:38.968115Z",
     "shell.execute_reply": "2025-05-29T17:05:38.967754Z"
    }
   },
   "outputs": [],
   "source": [
    "check = 'f' #choices = ['ang','x', 'y', 'vx', 'vy', 'D', 'T', 'DT', 'f']\n",
    "choice_map = {\n",
    "    'angl': angl,\n",
    "    'x': x,\n",
    "    'y': y,\n",
    "    'vx': vx,\n",
    "    'vy': vy,\n",
    "    'D': D,\n",
    "    'T': T,\n",
    "    'DT': D * T,\n",
    "    'f': flux\n",
    "}\n",
    "\n",
    "deb_cpu = choice_map.get(check)"
   ]
  },
  {
   "cell_type": "code",
   "execution_count": 19,
   "metadata": {
    "_kg_hide-output": false,
    "execution": {
     "iopub.execute_input": "2025-05-29T17:05:38.969334Z",
     "iopub.status.busy": "2025-05-29T17:05:38.969070Z",
     "iopub.status.idle": "2025-05-29T17:05:38.972225Z",
     "shell.execute_reply": "2025-05-29T17:05:38.971858Z"
    }
   },
   "outputs": [
    {
     "name": "stdout",
     "output_type": "stream",
     "text": [
      "----------------------------- Check f --------------------------------------\n",
      "GPU:  6.175797255528916e+33\n",
      "CPU:  2.243637026787437e+41\n"
     ]
    }
   ],
   "source": [
    "i = np.random.randint(deb.shape[0])\n",
    "j = np.random.randint(deb.shape[1])\n",
    "k = np.random.randint(deb.shape[2])\n",
    "print('----------------------------- Check '+check+' --------------------------------------')\n",
    "print('GPU: ', deb[i, j, k])\n",
    "print('CPU: ', deb_cpu[i, j, k])"
   ]
  },
  {
   "cell_type": "code",
   "execution_count": 20,
   "metadata": {
    "_kg_hide-output": false,
    "execution": {
     "iopub.execute_input": "2025-05-29T17:05:38.973552Z",
     "iopub.status.busy": "2025-05-29T17:05:38.973272Z",
     "iopub.status.idle": "2025-05-29T17:05:38.976315Z",
     "shell.execute_reply": "2025-05-29T17:05:38.975941Z"
    }
   },
   "outputs": [
    {
     "name": "stdout",
     "output_type": "stream",
     "text": [
      "----------------------------- Final Check --------------------------------------\n",
      "GPU:  2.20823898434277e+37\n",
      "CPU:  3.054936113652794e+44\n"
     ]
    }
   ],
   "source": [
    "check_def = True\n",
    "if check_def:\n",
    "    i = np.random.randint(deb_def.shape[0])\n",
    "    print('----------------------------- Final Check --------------------------------------')\n",
    "    print('GPU: ', deb_def[i])\n",
    "    print('CPU: ', flux_def[i])"
   ]
  },
  {
   "cell_type": "code",
   "execution_count": 21,
   "metadata": {
    "execution": {
     "iopub.execute_input": "2025-05-29T17:05:38.977507Z",
     "iopub.status.busy": "2025-05-29T17:05:38.977337Z",
     "iopub.status.idle": "2025-05-29T17:05:38.980228Z",
     "shell.execute_reply": "2025-05-29T17:05:38.979858Z"
    }
   },
   "outputs": [
    {
     "name": "stdout",
     "output_type": "stream",
     "text": [
      "Any infs? False\n",
      "Positive infs: (0,)\n",
      "Negative infs: (0,)\n"
     ]
    }
   ],
   "source": [
    "print(\"Any infs?\", np.isinf(flux_def).any())\n",
    "print(\"Positive infs:\", np.where(flux_def == np.inf)[0].shape)\n",
    "print(\"Negative infs:\", np.where(flux_def == -np.inf)[0].shape)"
   ]
  },
  {
   "cell_type": "code",
   "execution_count": 22,
   "metadata": {
    "execution": {
     "iopub.execute_input": "2025-05-29T17:05:38.981523Z",
     "iopub.status.busy": "2025-05-29T17:05:38.981227Z",
     "iopub.status.idle": "2025-05-29T17:05:38.984076Z",
     "shell.execute_reply": "2025-05-29T17:05:38.983703Z"
    }
   },
   "outputs": [
    {
     "name": "stdout",
     "output_type": "stream",
     "text": [
      "Any infs? False\n",
      "Positive infs: (0,)\n",
      "Negative infs: (0,)\n"
     ]
    }
   ],
   "source": [
    "print(\"Any infs?\", np.isinf(deb_def).any())\n",
    "print(\"Positive infs:\", np.where(deb_def == np.inf)[0].shape)\n",
    "print(\"Negative infs:\", np.where(deb_def == -np.inf)[0].shape)"
   ]
  },
  {
   "cell_type": "code",
   "execution_count": 23,
   "metadata": {
    "execution": {
     "iopub.execute_input": "2025-05-29T17:05:38.985279Z",
     "iopub.status.busy": "2025-05-29T17:05:38.985053Z",
     "iopub.status.idle": "2025-05-29T17:05:38.987666Z",
     "shell.execute_reply": "2025-05-29T17:05:38.987310Z"
    }
   },
   "outputs": [
    {
     "name": "stdout",
     "output_type": "stream",
     "text": [
      "---------------------- Check Tempistiche -----------------------------\n",
      "Tempo impiegato con GPU: 0.8327937126159668\n",
      "Tempo impiegato con GPU+copia su CPU: 0.8375489711761475\n",
      "Tempo impiegato con CPU: 0.5656228065490723\n"
     ]
    }
   ],
   "source": [
    "print('---------------------- Check Tempistiche -----------------------------')\n",
    "print('Tempo impiegato con GPU:', end_time_gpu_without_copying-start_time_gpu)\n",
    "print('Tempo impiegato con GPU+copia su CPU:', end_time_gpu-start_time_gpu)\n",
    "print('Tempo impiegato con CPU:', end_time_cpu-start_time_cpu)"
   ]
  },
  {
   "cell_type": "code",
   "execution_count": 24,
   "metadata": {
    "execution": {
     "iopub.execute_input": "2025-05-29T17:05:38.988974Z",
     "iopub.status.busy": "2025-05-29T17:05:38.988672Z",
     "iopub.status.idle": "2025-05-29T17:05:38.992480Z",
     "shell.execute_reply": "2025-05-29T17:05:38.992124Z"
    }
   },
   "outputs": [],
   "source": [
    "with open('error_time_evaluation/output_N_1e5.txt', 'w') as f:\n",
    "    f.write(f'GPU\\t{end_time_gpu-start_time_gpu:.2f}\\n')\n",
    "    f.write(f'CPU\\t{end_time_cpu-start_time_cpu:.2f}\\n')\n",
    "    for a, b in zip(deb_def, flux_def):\n",
    "        f.write(f\"{a}\\t{b}\\n\") "
   ]
  }
 ],
 "metadata": {
  "kaggle": {
   "accelerator": "gpu",
   "dataSources": [],
   "dockerImageVersionId": 31011,
   "isGpuEnabled": true,
   "isInternetEnabled": true,
   "language": "python",
   "sourceType": "notebook"
  },
  "kernelspec": {
   "display_name": "Python 3 (ipykernel)",
   "language": "python",
   "name": "python3"
  },
  "language_info": {
   "codemirror_mode": {
    "name": "ipython",
    "version": 3
   },
   "file_extension": ".py",
   "mimetype": "text/x-python",
   "name": "python",
   "nbconvert_exporter": "python",
   "pygments_lexer": "ipython3",
   "version": "3.11.6"
  }
 },
 "nbformat": 4,
 "nbformat_minor": 4
}

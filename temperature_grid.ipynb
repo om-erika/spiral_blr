{
 "cells": [
  {
   "cell_type": "code",
   "execution_count": 1,
   "id": "f165f0b3",
   "metadata": {},
   "outputs": [],
   "source": [
    "import numpy as np\n",
    "from numba import cuda, float64\n",
    "import math\n",
    "from scipy.integrate import quad\n",
    "from matplotlib import pyplot as plt\n",
    "from scipy.optimize import curve_fit"
   ]
  },
  {
   "cell_type": "code",
   "execution_count": 2,
   "id": "328fa075",
   "metadata": {},
   "outputs": [],
   "source": [
    "# Constants\n",
    "h = 6.62607015e-34\n",
    "k = 1.380649e-23\n",
    "c = 3e8\n",
    "\n",
    "@cuda.jit(device=True)\n",
    "def compute_planck_spectrum(nu, T):\n",
    "    num = 2.0 * h * nu**3 / c**2\n",
    "    den = math.exp(h * nu / (k * T)) - 1.0\n",
    "    return num / den\n",
    "\n",
    "@cuda.jit\n",
    "def compute_ionizing_flux_kernel(T_array, d_nu, dnu, flux_grid):\n",
    "    t_idx, nu_idx = cuda.grid(2)\n",
    "\n",
    "    if t_idx < T_array.size and nu_idx < d_nu.size:\n",
    "        T = T_array[t_idx]\n",
    "        nu = d_nu[nu_idx]\n",
    "        val = compute_planck_spectrum(nu, T)*dnu\n",
    "        flux_grid[t_idx, nu_idx] = val #griglia Txfreq\n",
    "\n",
    "@cuda.jit\n",
    "def sum_kernel(d_T, d_nu, d_flux, d_flux_def):\n",
    "  idx_t = cuda.grid(1)\n",
    "\n",
    "  if idx_t < d_T.size:\n",
    "      for i_nu in range(d_nu.size):\n",
    "            d_flux_def[idx_t] = d_flux_def[idx_t] + d_flux[idx_t][i_nu]"
   ]
  },
  {
   "cell_type": "code",
   "execution_count": 3,
   "id": "3d30181a",
   "metadata": {},
   "outputs": [
    {
     "ename": "CudaSupportError",
     "evalue": "Error at driver init: \n\nCUDA driver library cannot be found.\nIf you are sure that a CUDA driver is installed,\ntry setting environment variable NUMBA_CUDA_DRIVER\nwith the file path of the CUDA driver shared library.\n:",
     "output_type": "error",
     "traceback": [
      "\u001b[31m---------------------------------------------------------------------------\u001b[39m",
      "\u001b[31mCudaSupportError\u001b[39m                          Traceback (most recent call last)",
      "\u001b[36mCell\u001b[39m\u001b[36m \u001b[39m\u001b[32mIn[3]\u001b[39m\u001b[32m, line 8\u001b[39m\n\u001b[32m      5\u001b[39m freq_vals = np.linspace(nu_min, nu_max, N_nu)\n\u001b[32m      6\u001b[39m dnu = freq_vals[\u001b[32m1\u001b[39m]-freq_vals[\u001b[32m0\u001b[39m]\n\u001b[32m----> \u001b[39m\u001b[32m8\u001b[39m T_dev = \u001b[43mcuda\u001b[49m\u001b[43m.\u001b[49m\u001b[43mto_device\u001b[49m\u001b[43m(\u001b[49m\u001b[43mT_vals\u001b[49m\u001b[43m)\u001b[49m\n\u001b[32m      9\u001b[39m freq_dev = cuda.to_device(freq_vals)\n\u001b[32m     10\u001b[39m flux_def = np.zeros([T_vals.size, freq_vals.size])\n",
      "\u001b[36mFile \u001b[39m\u001b[32m~/scratch/box/lib/python3.11/site-packages/numba/cuda/cudadrv/devices.py:231\u001b[39m, in \u001b[36mrequire_context.<locals>._require_cuda_context\u001b[39m\u001b[34m(*args, **kws)\u001b[39m\n\u001b[32m    229\u001b[39m \u001b[38;5;129m@functools\u001b[39m.wraps(fn)\n\u001b[32m    230\u001b[39m \u001b[38;5;28;01mdef\u001b[39;00m\u001b[38;5;250m \u001b[39m\u001b[34m_require_cuda_context\u001b[39m(*args, **kws):\n\u001b[32m--> \u001b[39m\u001b[32m231\u001b[39m \u001b[43m    \u001b[49m\u001b[38;5;28;43;01mwith\u001b[39;49;00m\u001b[43m \u001b[49m\u001b[43m_runtime\u001b[49m\u001b[43m.\u001b[49m\u001b[43mensure_context\u001b[49m\u001b[43m(\u001b[49m\u001b[43m)\u001b[49m\u001b[43m:\u001b[49m\n\u001b[32m    232\u001b[39m \u001b[43m        \u001b[49m\u001b[38;5;28;43;01mreturn\u001b[39;49;00m\u001b[43m \u001b[49m\u001b[43mfn\u001b[49m\u001b[43m(\u001b[49m\u001b[43m*\u001b[49m\u001b[43margs\u001b[49m\u001b[43m,\u001b[49m\u001b[43m \u001b[49m\u001b[43m*\u001b[49m\u001b[43m*\u001b[49m\u001b[43mkws\u001b[49m\u001b[43m)\u001b[49m\n",
      "\u001b[36mFile \u001b[39m\u001b[32m/leonardo/prod/spack/5.2/install/0.21/linux-rhel8-icelake/gcc-8.5.0/python-3.11.6-i5k3c6ggftqkzgqyymfbkynpgm2lgjtd/lib/python3.11/contextlib.py:137\u001b[39m, in \u001b[36m_GeneratorContextManager.__enter__\u001b[39m\u001b[34m(self)\u001b[39m\n\u001b[32m    135\u001b[39m \u001b[38;5;28;01mdel\u001b[39;00m \u001b[38;5;28mself\u001b[39m.args, \u001b[38;5;28mself\u001b[39m.kwds, \u001b[38;5;28mself\u001b[39m.func\n\u001b[32m    136\u001b[39m \u001b[38;5;28;01mtry\u001b[39;00m:\n\u001b[32m--> \u001b[39m\u001b[32m137\u001b[39m     \u001b[38;5;28;01mreturn\u001b[39;00m \u001b[38;5;28mnext\u001b[39m(\u001b[38;5;28mself\u001b[39m.gen)\n\u001b[32m    138\u001b[39m \u001b[38;5;28;01mexcept\u001b[39;00m \u001b[38;5;167;01mStopIteration\u001b[39;00m:\n\u001b[32m    139\u001b[39m     \u001b[38;5;28;01mraise\u001b[39;00m \u001b[38;5;167;01mRuntimeError\u001b[39;00m(\u001b[33m\"\u001b[39m\u001b[33mgenerator didn\u001b[39m\u001b[33m'\u001b[39m\u001b[33mt yield\u001b[39m\u001b[33m\"\u001b[39m) \u001b[38;5;28;01mfrom\u001b[39;00m\u001b[38;5;250m \u001b[39m\u001b[38;5;28;01mNone\u001b[39;00m\n",
      "\u001b[36mFile \u001b[39m\u001b[32m~/scratch/box/lib/python3.11/site-packages/numba/cuda/cudadrv/devices.py:121\u001b[39m, in \u001b[36m_Runtime.ensure_context\u001b[39m\u001b[34m(self)\u001b[39m\n\u001b[32m    110\u001b[39m \u001b[38;5;129m@contextmanager\u001b[39m\n\u001b[32m    111\u001b[39m \u001b[38;5;28;01mdef\u001b[39;00m\u001b[38;5;250m \u001b[39m\u001b[34mensure_context\u001b[39m(\u001b[38;5;28mself\u001b[39m):\n\u001b[32m    112\u001b[39m \u001b[38;5;250m    \u001b[39m\u001b[33;03m\"\"\"Ensure a CUDA context is available inside the context.\u001b[39;00m\n\u001b[32m    113\u001b[39m \n\u001b[32m    114\u001b[39m \u001b[33;03m    On entrance, queries the CUDA driver for an active CUDA context and\u001b[39;00m\n\u001b[32m   (...)\u001b[39m\u001b[32m    119\u001b[39m \u001b[33;03m    any top-level Numba CUDA API.\u001b[39;00m\n\u001b[32m    120\u001b[39m \u001b[33;03m    \"\"\"\u001b[39;00m\n\u001b[32m--> \u001b[39m\u001b[32m121\u001b[39m \u001b[43m    \u001b[49m\u001b[38;5;28;43;01mwith\u001b[39;49;00m\u001b[43m \u001b[49m\u001b[43mdriver\u001b[49m\u001b[43m.\u001b[49m\u001b[43mget_active_context\u001b[49m\u001b[43m(\u001b[49m\u001b[43m)\u001b[49m\u001b[43m:\u001b[49m\n\u001b[32m    122\u001b[39m \u001b[43m        \u001b[49m\u001b[43moldctx\u001b[49m\u001b[43m \u001b[49m\u001b[43m=\u001b[49m\u001b[43m \u001b[49m\u001b[38;5;28;43mself\u001b[39;49m\u001b[43m.\u001b[49m\u001b[43m_get_attached_context\u001b[49m\u001b[43m(\u001b[49m\u001b[43m)\u001b[49m\n\u001b[32m    123\u001b[39m \u001b[43m        \u001b[49m\u001b[43mnewctx\u001b[49m\u001b[43m \u001b[49m\u001b[43m=\u001b[49m\u001b[43m \u001b[49m\u001b[38;5;28;43mself\u001b[39;49m\u001b[43m.\u001b[49m\u001b[43mget_or_create_context\u001b[49m\u001b[43m(\u001b[49m\u001b[38;5;28;43;01mNone\u001b[39;49;00m\u001b[43m)\u001b[49m\n",
      "\u001b[36mFile \u001b[39m\u001b[32m~/scratch/box/lib/python3.11/site-packages/numba/cuda/cudadrv/driver.py:495\u001b[39m, in \u001b[36m_ActiveContext.__enter__\u001b[39m\u001b[34m(self)\u001b[39m\n\u001b[32m    493\u001b[39m \u001b[38;5;28;01melse\u001b[39;00m:\n\u001b[32m    494\u001b[39m     hctx = drvapi.cu_context(\u001b[32m0\u001b[39m)\n\u001b[32m--> \u001b[39m\u001b[32m495\u001b[39m     \u001b[43mdriver\u001b[49m\u001b[43m.\u001b[49m\u001b[43mcuCtxGetCurrent\u001b[49m(byref(hctx))\n\u001b[32m    496\u001b[39m     hctx = hctx \u001b[38;5;28;01mif\u001b[39;00m hctx.value \u001b[38;5;28;01melse\u001b[39;00m \u001b[38;5;28;01mNone\u001b[39;00m\n\u001b[32m    498\u001b[39m \u001b[38;5;28;01mif\u001b[39;00m hctx \u001b[38;5;129;01mis\u001b[39;00m \u001b[38;5;28;01mNone\u001b[39;00m:\n",
      "\u001b[36mFile \u001b[39m\u001b[32m~/scratch/box/lib/python3.11/site-packages/numba/cuda/cudadrv/driver.py:295\u001b[39m, in \u001b[36mDriver.__getattr__\u001b[39m\u001b[34m(self, fname)\u001b[39m\n\u001b[32m    292\u001b[39m \u001b[38;5;28mself\u001b[39m.ensure_initialized()\n\u001b[32m    294\u001b[39m \u001b[38;5;28;01mif\u001b[39;00m \u001b[38;5;28mself\u001b[39m.initialization_error \u001b[38;5;129;01mis\u001b[39;00m \u001b[38;5;129;01mnot\u001b[39;00m \u001b[38;5;28;01mNone\u001b[39;00m:\n\u001b[32m--> \u001b[39m\u001b[32m295\u001b[39m     \u001b[38;5;28;01mraise\u001b[39;00m CudaSupportError(\u001b[33m\"\u001b[39m\u001b[33mError at driver init: \u001b[39m\u001b[38;5;130;01m\\n\u001b[39;00m\u001b[38;5;132;01m%s\u001b[39;00m\u001b[33m:\u001b[39m\u001b[33m\"\u001b[39m %\n\u001b[32m    296\u001b[39m                            \u001b[38;5;28mself\u001b[39m.initialization_error)\n\u001b[32m    298\u001b[39m \u001b[38;5;28;01mif\u001b[39;00m USE_NV_BINDING:\n\u001b[32m    299\u001b[39m     \u001b[38;5;28;01mreturn\u001b[39;00m \u001b[38;5;28mself\u001b[39m._cuda_python_wrap_fn(fname)\n",
      "\u001b[31mCudaSupportError\u001b[39m: Error at driver init: \n\nCUDA driver library cannot be found.\nIf you are sure that a CUDA driver is installed,\ntry setting environment variable NUMBA_CUDA_DRIVER\nwith the file path of the CUDA driver shared library.\n:"
     ]
    }
   ],
   "source": [
    "T_vals = np.linspace(1e4, 1e13, int(1e4))  \n",
    "nu_min = 13.6 * 1.60218e-19 / h\n",
    "nu_max = 20.0 * 13.6 * 1.60218e-19 / h\n",
    "N_nu = int(1e4)\n",
    "freq_vals = np.linspace(nu_min, nu_max, N_nu)\n",
    "dnu = freq_vals[1]-freq_vals[0]\n",
    "\n",
    "T_dev = cuda.to_device(T_vals)\n",
    "freq_dev = cuda.to_device(freq_vals)\n",
    "flux_def = np.zeros([T_vals.size, freq_vals.size])\n",
    "flux_grid_dev = cuda.to_device(flux_def)\n",
    "flux_def = np.zeros(T_vals.size)\n",
    "d_flux_def =  cuda.to_device(flux_def)\n",
    "\n",
    "threadsperblock = (16, 16)\n",
    "blockspergrid = (\n",
    "    (T_vals.size + threadsperblock[0] - 1) // threadsperblock[0],\n",
    "    (N_nu + threadsperblock[1] - 1) // threadsperblock[1]\n",
    ")\n",
    "compute_ionizing_flux_kernel[blockspergrid, threadsperblock](T_dev, freq_dev, dnu, flux_grid_dev)\n",
    "cuda.synchronize()\n",
    "\n",
    "threadsperblock = (16)\n",
    "blockspergrid = (\n",
    "    (T_vals.size + threadsperblock - 1) // threadsperblock\n",
    ")\n",
    "\n",
    "sum_kernel[blockspergrid, threadsperblock](T_dev, freq_dev, flux_grid_dev, d_flux_def)\n",
    "\n",
    "flux_def = d_flux_def.copy_to_host()"
   ]
  },
  {
   "cell_type": "code",
   "execution_count": 3,
   "id": "bf03dd77",
   "metadata": {},
   "outputs": [],
   "source": [
    "# Function to calculate the Planck spectrum for a given temperature\n",
    "def planck_spectrum(nu, T):\n",
    "    return (2 * h * nu**3) / (c**2) * (1 / (np.exp(h * nu / (k * T)) - 1))\n",
    "\n",
    "# Function to calculate the ionizing flux for a given temperature\n",
    "# The temperature here should be D*T/(1+z) where D is the Doppler factor, 1+z is the gravitational redshift and T is the rest frame wavelength \n",
    "def ionizing_flux_element(T):\n",
    "    def integrand(nu):\n",
    "        return planck_spectrum(nu, T)\n",
    "    flux, _ = quad(integrand, 13.6 / h * 1.60218e-19, 20 * 13.6 / h * 1.60218e-19)\n",
    "    return flux"
   ]
  },
  {
   "cell_type": "code",
   "execution_count": 43,
   "id": "104ab6f2",
   "metadata": {},
   "outputs": [],
   "source": [
    "T_vals = np.linspace(1e8, 1e11, int(1e6))\n",
    "quad_int = np.zeros(len(T_vals))\n",
    "for idx,T in enumerate(T_vals):\n",
    "    quad_int[idx] = ionizing_flux_element(T)"
   ]
  },
  {
   "cell_type": "code",
   "execution_count": 47,
   "id": "f1212b70",
   "metadata": {},
   "outputs": [],
   "source": [
    "log_x = np.log10(T_vals)\n",
    "log_y = np.log10(quad_int)"
   ]
  },
  {
   "cell_type": "code",
   "execution_count": 48,
   "id": "9de19623",
   "metadata": {},
   "outputs": [],
   "source": [
    "def fit(x, a,b,c, d, e):#,b):#, b, c, d):\n",
    "    return a+b*x+c*x*x+d*x*x*x+e*x*x*x*x#/(1+np.cosh(x))"
   ]
  },
  {
   "cell_type": "code",
   "execution_count": 49,
   "id": "2e2e0b69",
   "metadata": {},
   "outputs": [],
   "source": [
    "param = curve_fit(fit, log_x, log_y, p0=(1., -400, 10,20, 1))"
   ]
  },
  {
   "cell_type": "code",
   "execution_count": 50,
   "id": "73be6534",
   "metadata": {},
   "outputs": [
    {
     "data": {
      "text/plain": [
       "(array([ 8.49396521e+00,  1.76942309e+00, -1.12695341e-01,  7.33461259e-03,\n",
       "        -1.78956502e-04]),\n",
       " array([[ 3.75466015e-07, -1.53917548e-07,  2.35870650e-08,\n",
       "         -1.60166942e-09,  4.06682108e-11],\n",
       "        [-1.53917548e-07,  6.31252296e-08, -9.67786335e-09,\n",
       "          6.57449918e-10, -1.67002366e-11],\n",
       "        [ 2.35870650e-08, -9.67786335e-09,  1.48436553e-09,\n",
       "         -1.00879517e-10,  2.56351579e-12],\n",
       "        [-1.60166942e-09,  6.57449918e-10, -1.00879517e-10,\n",
       "          6.85865109e-12, -1.74357215e-13],\n",
       "        [ 4.06682108e-11, -1.67002366e-11,  2.56351579e-12,\n",
       "         -1.74357215e-13,  4.43408930e-15]]))"
      ]
     },
     "execution_count": 50,
     "metadata": {},
     "output_type": "execute_result"
    }
   ],
   "source": [
    "param"
   ]
  },
  {
   "cell_type": "code",
   "execution_count": 52,
   "id": "41add5e8",
   "metadata": {},
   "outputs": [
    {
     "data": {
      "text/plain": [
       "(8.0, 9.0)"
      ]
     },
     "execution_count": 52,
     "metadata": {},
     "output_type": "execute_result"
    },
    {
     "data": {
      "image/png": "[encoded data removed]",
      "text/plain": [
       "<Figure size 640x480 with 1 Axes>"
      ]
     },
     "metadata": {},
     "output_type": "display_data"
    }
   ],
   "source": [
    "plt.plot(log_x, log_y)\n",
    "plt.plot(log_x, fit(log_x, *param[0]), linestyle = '--')\n",
    "plt.xlim(8,9)"
   ]
  },
  {
   "cell_type": "code",
   "execution_count": 33,
   "id": "e8c7b0e2",
   "metadata": {},
   "outputs": [],
   "source": [
    "def linear_fit(x, a, b, c):\n",
    "    return a*x**b +c"
   ]
  },
  {
   "cell_type": "code",
   "execution_count": 27,
   "id": "1f746ec2",
   "metadata": {},
   "outputs": [
    {
     "data": {
      "text/plain": [
       "array([ 1.0013706 , 24.06017954])"
      ]
     },
     "execution_count": 27,
     "metadata": {},
     "output_type": "execute_result"
    }
   ],
   "source": [
    "coeffs"
   ]
  },
  {
   "cell_type": "code",
   "execution_count": 35,
   "id": "66032ac2",
   "metadata": {},
   "outputs": [
    {
     "name": "stderr",
     "output_type": "stream",
     "text": [
      "/scratch_local/ipykernel_597167/1384102231.py:2: RuntimeWarning: overflow encountered in power\n",
      "  return a*x**b +c\n",
      "/scratch_local/ipykernel_597167/1384102231.py:2: RuntimeWarning: invalid value encountered in multiply\n",
      "  return a*x**b +c\n",
      "/scratch_local/ipykernel_597167/3141862089.py:1: OptimizeWarning: Covariance of the parameters could not be estimated\n",
      "  param = curve_fit(linear_fit, T_vals, quad_int, p0 = (0., 1e10, 0.))\n"
     ]
    }
   ],
   "source": [
    "param = curve_fit(linear_fit, T_vals, quad_int, p0 = (0., 1e10, 0.))"
   ]
  },
  {
   "cell_type": "code",
   "execution_count": 36,
   "id": "fb6c4c65",
   "metadata": {},
   "outputs": [
    {
     "data": {
      "text/plain": [
       "(array([0.e+00, 1.e+10, 0.e+00]),\n",
       " array([[inf, inf, inf],\n",
       "        [inf, inf, inf],\n",
       "        [inf, inf, inf]]))"
      ]
     },
     "execution_count": 36,
     "metadata": {},
     "output_type": "execute_result"
    }
   ],
   "source": [
    "param"
   ]
  },
  {
   "cell_type": "code",
   "execution_count": 37,
   "id": "0c94d5e2",
   "metadata": {},
   "outputs": [
    {
     "name": "stderr",
     "output_type": "stream",
     "text": [
      "/scratch_local/ipykernel_597167/1384102231.py:2: RuntimeWarning: overflow encountered in power\n",
      "  return a*x**b +c\n",
      "/scratch_local/ipykernel_597167/1384102231.py:2: RuntimeWarning: invalid value encountered in multiply\n",
      "  return a*x**b +c\n"
     ]
    },
    {
     "data": {
      "text/plain": [
       "[<matplotlib.lines.Line2D at 0x7f33bd4729d0>]"
      ]
     },
     "execution_count": 37,
     "metadata": {},
     "output_type": "execute_result"
    },
    {
     "data": {
      "image/png": "[encoded data removed]",
      "text/plain": [
       "<Figure size 640x480 with 1 Axes>"
      ]
     },
     "metadata": {},
     "output_type": "display_data"
    }
   ],
   "source": [
    "plt.plot(T_vals[:100], quad_int[:100])\n",
    "plt.plot(T_vals[:100], linear_fit(T_vals[:100], param[0][0], param[0][1], param[0][2]), linestyle = '--')"
   ]
  },
  {
   "cell_type": "code",
   "execution_count": null,
   "id": "e75b97ad",
   "metadata": {},
   "outputs": [
    {
     "name": "stdout",
     "output_type": "stream",
     "text": [
      "1.1298798562696101e+18 1.1639357202965824e+18 0.97074076907074\n"
     ]
    }
   ],
   "source": [
    "idx = 400\n",
    "print(quad_int[idx], linear_fit(T_vals, param[0][0], param[0][1])[idx], quad_int[idx]/linear_fit(T_vals, param[0][0], param[0][1])[idx])"
   ]
  },
  {
   "cell_type": "code",
   "execution_count": null,
   "id": "bfe0b4df",
   "metadata": {},
   "outputs": [
    {
     "data": {
      "text/plain": [
       "[<matplotlib.lines.Line2D at 0x7fbcc5624dd0>]"
      ]
     },
     "execution_count": 15,
     "metadata": {},
     "output_type": "execute_result"
    },
    {
     "data": {
      "image/png": "[encoded data removed]",
      "text/plain": [
       "<Figure size 640x480 with 1 Axes>"
      ]
     },
     "metadata": {},
     "output_type": "display_data"
    }
   ],
   "source": [
    "plt.plot(T_vals, quad_int/linear_fit(T_vals, param[0][0], param[0][1]))"
   ]
  },
  {
   "cell_type": "code",
   "execution_count": null,
   "id": "039046ca",
   "metadata": {},
   "outputs": [],
   "source": [
    "np.savetxt('integral_grid_resolved.txt', np.column_stack([T_vals, flux_def, quad_int]))"
   ]
  }
 ],
 "metadata": {
  "kernelspec": {
   "display_name": "box",
   "language": "python",
   "name": "python3"
  },
  "language_info": {
   "codemirror_mode": {
    "name": "ipython",
    "version": 3
   },
   "file_extension": ".py",
   "mimetype": "text/x-python",
   "name": "python",
   "nbconvert_exporter": "python",
   "pygments_lexer": "ipython3",
   "version": "3.11.6"
  }
 },
 "nbformat": 4,
 "nbformat_minor": 5
}
